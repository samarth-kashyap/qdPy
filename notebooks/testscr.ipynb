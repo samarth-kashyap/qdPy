{
 "cells": [
  {
   "cell_type": "code",
   "execution_count": 2,
   "metadata": {},
   "outputs": [
    {
     "name": "stdout",
     "output_type": "stream",
     "text": [
      "[Errno 2] No such file or directory: '/home/g.samarth/qdPy'\n",
      "/home/samarthgk/Codes/qdPy/notebooks\n"
     ]
    }
   ],
   "source": [
    "cd /home/g.samarth/qdPy"
   ]
  },
  {
   "cell_type": "code",
   "execution_count": 59,
   "metadata": {},
   "outputs": [
    {
     "name": "stdout",
     "output_type": "stream",
     "text": [
      "The autoreload extension is already loaded. To reload it, use:\n",
      "  %reload_ext autoreload\n"
     ]
    }
   ],
   "source": [
    "#warnings.filterwarnings('ignore')\n",
    "%load_ext autoreload\n",
    "%autoreload 2"
   ]
  },
  {
   "cell_type": "code",
   "execution_count": 108,
   "metadata": {},
   "outputs": [
    {
     "name": "stderr",
     "output_type": "stream",
     "text": [
      "INFO:qdclasses:Found 5 neighbors to mode (n, ell) = (0, 140)\n"
     ]
    },
    {
     "name": "stdout",
     "output_type": "stream",
     "text": [
      "mask_odd = [ True  True  True ...  True  True  True]\n"
     ]
    },
    {
     "name": "stderr",
     "output_type": "stream",
     "text": [
      "INFO:qdclasses:Creating submatrices for: \n",
      "Submatrices:   0%|          | 0/5 [00:00<?, ?it/s]INFO:qdclasses:--- (n1, l1) = (0, 140) and (n2, l2) = (0, 140)\n",
      "INFO:qdclasses:--- (n1, l1) = (0, 140) and (n2, l2) = (0, 142)\n",
      "INFO:qdclasses:--- (n1, l1) = (0, 140) and (n2, l2) = (0, 138)\n",
      "INFO:qdclasses:--- (n1, l1) = (0, 140) and (n2, l2) = (0, 144)\n",
      "INFO:qdclasses:--- (n1, l1) = (0, 140) and (n2, l2) = (0, 136)\n",
      "Submatrices:  20%|██        | 1/5 [00:00<00:00,  7.44it/s]INFO:qdclasses:--- (n1, l1) = (0, 142) and (n2, l2) = (0, 142)\n",
      "INFO:qdclasses:--- (n1, l1) = (0, 142) and (n2, l2) = (0, 138)\n",
      "INFO:qdclasses:--- (n1, l1) = (0, 142) and (n2, l2) = (0, 144)\n",
      "INFO:qdclasses:--- (n1, l1) = (0, 142) and (n2, l2) = (0, 136)\n",
      "Submatrices:  40%|████      | 2/5 [00:00<00:00,  8.00it/s]INFO:qdclasses:--- (n1, l1) = (0, 138) and (n2, l2) = (0, 138)\n",
      "INFO:qdclasses:--- (n1, l1) = (0, 138) and (n2, l2) = (0, 144)\n",
      "INFO:qdclasses:--- (n1, l1) = (0, 138) and (n2, l2) = (0, 136)\n",
      "INFO:qdclasses:--- (n1, l1) = (0, 144) and (n2, l2) = (0, 144)\n",
      "INFO:qdclasses:--- (n1, l1) = (0, 144) and (n2, l2) = (0, 136)\n",
      "Submatrices:  80%|████████  | 4/5 [00:00<00:00,  9.37it/s]INFO:qdclasses:--- (n1, l1) = (0, 136) and (n2, l2) = (0, 136)\n",
      "Submatrices: 100%|██████████| 5/5 [00:00<00:00, 12.79it/s]\n",
      "INFO:qdclasses:--- (n1, l1) = (0, 140) and (n2, l2) = (0, 140)\n",
      "INFO:qdclasses:--- (n1, l1) = (0, 142) and (n2, l2) = (0, 142)\n",
      "INFO:qdclasses:--- (n1, l1) = (0, 138) and (n2, l2) = (0, 138)\n",
      "INFO:qdclasses:--- (n1, l1) = (0, 144) and (n2, l2) = (0, 144)\n",
      "INFO:qdclasses:--- (n1, l1) = (0, 136) and (n2, l2) = (0, 136)\n"
     ]
    },
    {
     "name": "stdout",
     "output_type": "stream",
     "text": [
      "Time taken to create supermatrix =    0.75 seconds\n"
     ]
    },
    {
     "name": "stderr",
     "output_type": "stream",
     "text": [
      "INFO:qdclasses:--- (n1, l1) = (0, 140) and (n2, l2) = (0, 140)\n",
      "INFO:qdclasses:--- (n1, l1) = (0, 140) and (n2, l2) = (0, 140)\n",
      "INFO:__main__:QDPT a-coeffs = [ 1.19708533e+03  2.09474143e+06 -9.85214039e+02  3.33434351e+05\n",
      " -7.59556228e+03 -3.21796896e+05  1.66671107e+03  4.94654086e+05\n",
      " -4.35391552e+03 -4.13321797e+05  1.77384605e+04 -1.27098745e+04\n",
      " -8.29970356e+03  1.72312677e+05 -1.55259361e+04 -5.91084650e+04\n",
      "  1.54867378e+04  1.37064223e+05 -1.16264083e+03 -1.98486171e+05\n",
      "  1.51321353e+03 -2.58727128e+04 -4.22061606e+03  1.55519981e+05\n",
      " -6.37524729e+03 -3.52584500e+04  1.20940713e+04 -3.69117353e+03\n",
      " -2.84532430e+03 -5.32937716e+04 -4.28133806e+03 -7.52826047e+02\n",
      "  2.15382087e+03  6.44704421e+04 -1.06624427e+03 -1.92915324e+04\n",
      "  2.80205586e+03]\n",
      "INFO:__main__: DPT a-coeffs = [ 1.19708533e+03  2.21054961e+06  5.42393360e-11  1.11380285e+05\n",
      " -3.48320875e-11 -2.53512199e+04  1.08555286e-10  6.80955779e-11\n",
      " -9.11279057e-11 -9.55271839e-12 -1.96652271e-11  1.09534545e-10\n",
      "  9.93699925e-12 -4.89143718e-11 -8.08367567e-11 -1.09628841e-10\n",
      "  1.78969574e-11  2.77208110e-10  9.85572567e-11  2.51241093e-10\n",
      " -2.54472834e-11 -4.59539054e-11 -6.16616127e-11 -1.27533163e-10\n",
      " -2.40075508e-11 -1.53299916e-10  2.40595071e-11 -1.64720076e-10\n",
      " -5.24145678e-11 -4.41029877e-11 -2.45339744e-11  4.06063574e-11\n",
      "  5.62426314e-11  3.39168368e-11  9.58614676e-12  5.26555985e-11\n",
      " -1.65625900e-11]\n",
      "INFO:__main__:Time taken =    5.52 seconds\n"
     ]
    },
    {
     "name": "stdout",
     "output_type": "stream",
     "text": [
      "Time taken =    5.52 seconds\n"
     ]
    }
   ],
   "source": [
    "run qdpt.py --n 0 --l 140 --use_precomputed"
   ]
  },
  {
   "cell_type": "code",
   "execution_count": 103,
   "metadata": {},
   "outputs": [
    {
     "name": "stdout",
     "output_type": "stream",
     "text": [
      "mask_ell len = 117\n",
      "mask_odd len = 2258\n",
      "mask_both len = 65\n"
     ]
    },
    {
     "data": {
      "text/plain": [
       "array([136, 136, 136, 136, 136, 136, 136, 136, 136, 136, 136, 136, 136,\n",
       "       138, 138, 138, 138, 138, 138, 138, 138, 138, 138, 138, 138, 138,\n",
       "       140, 140, 140, 140, 140, 140, 140, 140, 140, 140, 140, 140, 140,\n",
       "       142, 142, 142, 142, 142, 142, 142, 142, 142, 142, 142, 142, 142,\n",
       "       144, 144, 144, 144, 144, 144, 144, 144, 144, 144, 144, 144, 144])"
      ]
     },
     "execution_count": 103,
     "metadata": {},
     "output_type": "execute_result"
    }
   ],
   "source": [
    "mask_ell = abs(analysis_modes.gvar.nl_all[:, 1] - analysis_modes.l0) < analysis_modes.smax\n",
    "mask_odd = (abs(analysis_modes.gvar.nl_all[:, 1] - analysis_modes.l0) % 2) == 0\n",
    "mask_both = mask_ell * mask_odd\n",
    "print(f\"mask_ell len = {mask_ell.sum()}\")\n",
    "print(f\"mask_odd len = {mask_odd.sum()}\")\n",
    "print(f\"mask_both len = {mask_both.sum()}\")\n",
    "ells = analysis_modes.gvar.nl_all[:, 1]\n",
    "ells[mask_both]"
   ]
  },
  {
   "cell_type": "code",
   "execution_count": 100,
   "metadata": {},
   "outputs": [
    {
     "data": {
      "image/png": "[encoded data removed]",
      "text/plain": [
       "<Figure size 432x288 with 1 Axes>"
      ]
     },
     "metadata": {
      "needs_background": "light"
     },
     "output_type": "display_data"
    }
   ],
   "source": [
    "plt.figure()\n",
    "plt.plot(mask_ell, 'r', alpha=0.5)\n",
    "plt.plot(mask_odd, '--b', alpha=0.5)\n",
    "plt.plot(mask_both, 'k')\n",
    "plt.show()"
   ]
  },
  {
   "cell_type": "code",
   "execution_count": 105,
   "metadata": {},
   "outputs": [
    {
     "name": "stderr",
     "output_type": "stream",
     "text": [
      "INFO:qdclasses:Found 5 neighbors to mode (n, ell) = (0, 140)\n"
     ]
    },
    {
     "name": "stdout",
     "output_type": "stream",
     "text": [
      "mask_odd = [ True  True  True ...  True  True  True]\n"
     ]
    },
    {
     "name": "stderr",
     "output_type": "stream",
     "text": [
      "INFO:qdclasses:Creating submatrices for: \n",
      "Submatrices:   0%|          | 0/5 [00:00<?, ?it/s]INFO:qdclasses:--- (n1, l1) = (0, 140) and (n2, l2) = (0, 140)\n",
      "INFO:qdclasses:--- (n1, l1) = (0, 140) and (n2, l2) = (0, 142)\n",
      "INFO:qdclasses:--- (n1, l1) = (0, 140) and (n2, l2) = (0, 138)\n",
      "INFO:qdclasses:--- (n1, l1) = (0, 140) and (n2, l2) = (0, 144)\n",
      "INFO:qdclasses:--- (n1, l1) = (0, 140) and (n2, l2) = (0, 136)\n",
      "Submatrices:  20%|██        | 1/5 [00:00<00:00,  7.39it/s]INFO:qdclasses:--- (n1, l1) = (0, 142) and (n2, l2) = (0, 142)\n",
      "INFO:qdclasses:--- (n1, l1) = (0, 142) and (n2, l2) = (0, 138)\n",
      "INFO:qdclasses:--- (n1, l1) = (0, 142) and (n2, l2) = (0, 144)\n",
      "INFO:qdclasses:--- (n1, l1) = (0, 142) and (n2, l2) = (0, 136)\n",
      "Submatrices:  40%|████      | 2/5 [00:00<00:00,  7.91it/s]INFO:qdclasses:--- (n1, l1) = (0, 138) and (n2, l2) = (0, 138)\n",
      "INFO:qdclasses:--- (n1, l1) = (0, 138) and (n2, l2) = (0, 144)\n",
      "INFO:qdclasses:--- (n1, l1) = (0, 138) and (n2, l2) = (0, 136)\n",
      "INFO:qdclasses:--- (n1, l1) = (0, 144) and (n2, l2) = (0, 144)\n",
      "INFO:qdclasses:--- (n1, l1) = (0, 144) and (n2, l2) = (0, 136)\n",
      "Submatrices:  80%|████████  | 4/5 [00:00<00:00,  9.26it/s]INFO:qdclasses:--- (n1, l1) = (0, 136) and (n2, l2) = (0, 136)\n",
      "Submatrices: 100%|██████████| 5/5 [00:00<00:00, 12.59it/s]\n",
      "INFO:qdclasses:--- (n1, l1) = (0, 140) and (n2, l2) = (0, 140)\n",
      "INFO:qdclasses:--- (n1, l1) = (0, 142) and (n2, l2) = (0, 142)\n",
      "INFO:qdclasses:--- (n1, l1) = (0, 138) and (n2, l2) = (0, 138)\n",
      "INFO:qdclasses:--- (n1, l1) = (0, 144) and (n2, l2) = (0, 144)\n",
      "INFO:qdclasses:--- (n1, l1) = (0, 136) and (n2, l2) = (0, 136)\n"
     ]
    },
    {
     "name": "stdout",
     "output_type": "stream",
     "text": [
      "Time taken to create supermatrix =    0.74 seconds\n"
     ]
    },
    {
     "name": "stderr",
     "output_type": "stream",
     "text": [
      "INFO:qdclasses:--- (n1, l1) = (0, 140) and (n2, l2) = (0, 140)\n",
      "INFO:qdclasses:--- (n1, l1) = (0, 140) and (n2, l2) = (0, 140)\n",
      "INFO:__main__:QDPT a-coeffs = [ 1.19708533e+03  2.09474143e+06 -9.85214039e+02  3.33434351e+05\n",
      " -7.59556228e+03 -3.21796896e+05  1.66671107e+03  4.94654086e+05\n",
      " -4.35391552e+03 -4.13321797e+05  1.77384605e+04 -1.27098745e+04\n",
      " -8.29970356e+03  1.72312677e+05 -1.55259361e+04 -5.91084650e+04\n",
      "  1.54867378e+04  1.37064223e+05 -1.16264083e+03 -1.98486171e+05\n",
      "  1.51321353e+03 -2.58727128e+04 -4.22061606e+03  1.55519981e+05\n",
      " -6.37524729e+03 -3.52584500e+04  1.20940713e+04 -3.69117353e+03\n",
      " -2.84532430e+03 -5.32937716e+04 -4.28133806e+03 -7.52826047e+02\n",
      "  2.15382087e+03  6.44704421e+04 -1.06624427e+03 -1.92915324e+04\n",
      "  2.80205586e+03]\n",
      "INFO:__main__: DPT a-coeffs = [ 1.19708533e+03  2.21054961e+06  5.42393360e-11  1.11380285e+05\n",
      " -3.48320875e-11 -2.53512199e+04  1.08555286e-10  6.80955779e-11\n",
      " -9.11279057e-11 -9.55271839e-12 -1.96652271e-11  1.09534545e-10\n",
      "  9.93699925e-12 -4.89143718e-11 -8.08367567e-11 -1.09628841e-10\n",
      "  1.78969574e-11  2.77208110e-10  9.85572567e-11  2.51241093e-10\n",
      " -2.54472834e-11 -4.59539054e-11 -6.16616127e-11 -1.27533163e-10\n",
      " -2.40075508e-11 -1.53299916e-10  2.40595071e-11 -1.64720076e-10\n",
      " -5.24145678e-11 -4.41029877e-11 -2.45339744e-11  4.06063574e-11\n",
      "  5.62426314e-11  3.39168368e-11  9.58614676e-12  5.26555985e-11\n",
      " -1.65625900e-11]\n",
      "INFO:__main__:Time taken =    5.43 seconds\n"
     ]
    },
    {
     "name": "stdout",
     "output_type": "stream",
     "text": [
      "Time taken =    5.43 seconds\n"
     ]
    }
   ],
   "source": [
    "run qdpt.py --n 0 --l 140 --use_precomputed"
   ]
  },
  {
   "cell_type": "code",
   "execution_count": 1,
   "metadata": {},
   "outputs": [],
   "source": [
    "import cProfile"
   ]
  },
  {
   "cell_type": "code",
   "execution_count": 18,
   "metadata": {
    "scrolled": false
   },
   "outputs": [
    {
     "name": "stdout",
     "output_type": "stream",
     "text": [
      "         6416 function calls (6411 primitive calls) in 45.301 seconds\n",
      "\n",
      "   Ordered by: standard name\n",
      "\n",
      "   ncalls  tottime  percall  cumtime  percall filename:lineno(function)\n",
      "        2    0.000    0.000    0.027    0.014 <__array_function__ internals>:2(copyto)\n",
      "        1    0.000    0.000    0.000    0.000 <__array_function__ internals>:2(diag)\n",
      "        1    0.000    0.000    0.000    0.000 <__array_function__ internals>:2(diagonal)\n",
      "        1    0.000    0.000   44.988   44.988 <__array_function__ internals>:2(eigh)\n",
      "        2    0.000    0.000    0.000    0.000 <__array_function__ internals>:2(empty_like)\n",
      "        2    0.000    0.000    0.028    0.014 <__array_function__ internals>:2(zeros_like)\n",
      "        1    0.000    0.000   45.301   45.301 <string>:1(<module>)\n",
      "        2    0.000    0.000    0.000    0.000 __init__.py:1011(flush)\n",
      "        2    0.000    0.000    0.000    0.000 __init__.py:1022(emit)\n",
      "        2    0.000    0.000    0.000    0.000 __init__.py:1123(emit)\n",
      "        2    0.000    0.000    0.000    0.000 __init__.py:117(getLevelName)\n",
      "        2    0.000    0.000    0.001    0.000 __init__.py:1373(info)\n",
      "        2    0.000    0.000    0.000    0.000 __init__.py:1451(findCaller)\n",
      "        2    0.000    0.000    0.000    0.000 __init__.py:1481(makeRecord)\n",
      "        2    0.000    0.000    0.001    0.000 __init__.py:1496(_log)\n",
      "        2    0.000    0.000    0.000    0.000 __init__.py:1521(handle)\n",
      "        2    0.000    0.000    0.000    0.000 __init__.py:154(<lambda>)\n",
      "        2    0.000    0.000    0.000    0.000 __init__.py:1575(callHandlers)\n",
      "        2    0.000    0.000    0.000    0.000 __init__.py:1619(isEnabledFor)\n",
      "        2    0.000    0.000    0.000    0.000 __init__.py:293(__init__)\n",
      "        2    0.000    0.000    0.000    0.000 __init__.py:371(getMessage)\n",
      "        2    0.000    0.000    0.000    0.000 __init__.py:429(usesTime)\n",
      "        2    0.000    0.000    0.000    0.000 __init__.py:432(format)\n",
      "        2    0.000    0.000    0.000    0.000 __init__.py:539(formatTime)\n",
      "        2    0.000    0.000    0.000    0.000 __init__.py:584(usesTime)\n",
      "        2    0.000    0.000    0.000    0.000 __init__.py:590(formatMessage)\n",
      "        2    0.000    0.000    0.000    0.000 __init__.py:606(format)\n",
      "        4    0.000    0.000    0.000    0.000 __init__.py:747(filter)\n",
      "        4    0.000    0.000    0.000    0.000 __init__.py:849(acquire)\n",
      "        4    0.000    0.000    0.000    0.000 __init__.py:856(release)\n",
      "        2    0.000    0.000    0.000    0.000 __init__.py:869(format)\n",
      "        2    0.000    0.000    0.000    0.000 __init__.py:892(handle)\n",
      "        1    0.000    0.000    0.000    0.000 _asarray.py:16(asarray)\n",
      "        2    0.000    0.000    0.000    0.000 _asarray.py:88(asanyarray)\n",
      "        8    0.000    0.000    0.000    0.000 _methods.py:36(_sum)\n",
      "        1    0.000    0.000    0.000    0.000 fromnumeric.py:1441(_diagonal_dispatcher)\n",
      "        1    0.000    0.000    0.000    0.000 fromnumeric.py:1445(diagonal)\n",
      "        2    0.000    0.000    0.000    0.000 genericpath.py:117(_splitext)\n",
      "        1    0.000    0.000    0.000    0.000 linalg.py:1076(_eigvalsh_dispatcher)\n",
      "        1    0.000    0.000    0.000    0.000 linalg.py:111(get_linalg_error_extobj)\n",
      "        1    0.000    0.000    0.000    0.000 linalg.py:116(_makearray)\n",
      "        2    0.000    0.000    0.000    0.000 linalg.py:121(isComplexType)\n",
      "        1   44.988   44.988   44.988   44.988 linalg.py:1324(eigh)\n",
      "        2    0.000    0.000    0.000    0.000 linalg.py:134(_realType)\n",
      "        1    0.000    0.000    0.000    0.000 linalg.py:144(_commonType)\n",
      "        1    0.000    0.000    0.000    0.000 linalg.py:203(_assertRankAtLeast2)\n",
      "        1    0.000    0.000    0.000    0.000 linalg.py:209(_assertNdSquareness)\n",
      "        2    0.000    0.000    0.000    0.000 multiarray.py:1043(copyto)\n",
      "        2    0.000    0.000    0.000    0.000 multiarray.py:77(empty_like)\n",
      "        2    0.000    0.000    0.000    0.000 numeric.py:93(_zeros_like_dispatcher)\n",
      "        2    0.000    0.000    0.028    0.014 numeric.py:97(zeros_like)\n",
      "        2    0.000    0.000    0.000    0.000 posixpath.py:121(splitext)\n",
      "        2    0.000    0.000    0.000    0.000 posixpath.py:144(basename)\n",
      "        2    0.000    0.000    0.000    0.000 posixpath.py:41(_get_sep)\n",
      "        2    0.000    0.000    0.000    0.000 posixpath.py:52(normcase)\n",
      "        2    0.000    0.000    0.000    0.000 process.py:180(name)\n",
      "        2    0.000    0.000    0.000    0.000 process.py:36(current_process)\n",
      "        2    0.000    0.000   44.988   22.494 qdclasses.py:199(get_eigvals)\n",
      "        2    0.000    0.000    0.001    0.000 qdclasses.py:224(__init__)\n",
      "        1    0.001    0.001   45.301   45.301 qdpt.py:161(solve_eigprob)\n",
      "        1    0.050    0.050    0.312    0.312 qdpt.py:52(get_l0_freqs_qdpt)\n",
      "        1    0.000    0.000    0.001    0.001 qdpt.py:90(get_l0_freqs_dpt)\n",
      "        2    0.000    0.000    0.000    0.000 threading.py:1052(name)\n",
      "        2    0.000    0.000    0.000    0.000 threading.py:1214(current_thread)\n",
      "        1    0.000    0.000    0.000    0.000 twodim_base.py:212(_diag_dispatcher)\n",
      "        1    0.000    0.000    0.000    0.000 twodim_base.py:216(diag)\n",
      "        4    0.000    0.000    0.000    0.000 {built-in method _thread.get_ident}\n",
      "     3091    0.220    0.000    0.220    0.000 {built-in method builtins.abs}\n",
      "        1    0.000    0.000   45.301   45.301 {built-in method builtins.exec}\n",
      "        1    0.000    0.000    0.000    0.000 {built-in method builtins.getattr}\n",
      "        6    0.000    0.000    0.000    0.000 {built-in method builtins.hasattr}\n",
      "        7    0.000    0.000    0.000    0.000 {built-in method builtins.isinstance}\n",
      "        3    0.000    0.000    0.000    0.000 {built-in method builtins.issubclass}\n",
      "        3    0.000    0.000    0.000    0.000 {built-in method builtins.len}\n",
      "        3    0.000    0.000    0.000    0.000 {built-in method numpy.array}\n",
      "      9/4    0.027    0.003   45.015   11.254 {built-in method numpy.core._multiarray_umath.implement_array_function}\n",
      "        2    0.000    0.000    0.000    0.000 {built-in method numpy.zeros}\n",
      "        6    0.000    0.000    0.000    0.000 {built-in method posix.fspath}\n",
      "        2    0.000    0.000    0.000    0.000 {built-in method posix.getpid}\n",
      "        2    0.000    0.000    0.000    0.000 {built-in method sys._getframe}\n",
      "        2    0.000    0.000    0.000    0.000 {built-in method time.localtime}\n",
      "        2    0.000    0.000    0.000    0.000 {built-in method time.strftime}\n",
      "        2    0.000    0.000    0.000    0.000 {built-in method time.time}\n",
      "        1    0.000    0.000    0.000    0.000 {method '__array_prepare__' of 'numpy.ndarray' objects}\n",
      "        4    0.000    0.000    0.000    0.000 {method 'acquire' of '_thread.RLock' objects}\n",
      "     3091    0.014    0.000    0.014    0.000 {method 'argmax' of 'numpy.ndarray' objects}\n",
      "        2    0.000    0.000    0.000    0.000 {method 'astype' of 'numpy.ndarray' objects}\n",
      "        1    0.000    0.000    0.000    0.000 {method 'diagonal' of 'numpy.ndarray' objects}\n",
      "        1    0.000    0.000    0.000    0.000 {method 'disable' of '_lsprof.Profiler' objects}\n",
      "        2    0.000    0.000    0.000    0.000 {method 'find' of 'str' objects}\n",
      "        2    0.000    0.000    0.000    0.000 {method 'flush' of '_io.TextIOWrapper' objects}\n",
      "        2    0.000    0.000    0.000    0.000 {method 'format' of 'str' objects}\n",
      "        6    0.000    0.000    0.000    0.000 {method 'get' of 'dict' objects}\n",
      "        2    0.000    0.000    0.000    0.000 {method 'index' of 'list' objects}\n",
      "        8    0.000    0.000    0.000    0.000 {method 'reduce' of 'numpy.ufunc' objects}\n",
      "        4    0.000    0.000    0.000    0.000 {method 'release' of '_thread.RLock' objects}\n",
      "        6    0.000    0.000    0.000    0.000 {method 'rfind' of 'str' objects}\n",
      "        8    0.000    0.000    0.000    0.000 {method 'sum' of 'numpy.ndarray' objects}\n",
      "        2    0.000    0.000    0.000    0.000 {method 'tolist' of 'numpy.ndarray' objects}\n",
      "        1    0.000    0.000    0.000    0.000 {method 'upper' of 'str' objects}\n",
      "        2    0.000    0.000    0.000    0.000 {method 'write' of '_io.TextIOWrapper' objects}\n",
      "\n",
      "\n"
     ]
    }
   ],
   "source": [
    "cProfile.run(\"solve_eigprob()\")"
   ]
  },
  {
   "cell_type": "code",
   "execution_count": 106,
   "metadata": {},
   "outputs": [
    {
     "data": {
      "text/plain": [
       "<matplotlib.image.AxesImage at 0x7f410af2a6a0>"
      ]
     },
     "execution_count": 106,
     "metadata": {},
     "output_type": "execute_result"
    },
    {
     "data": {
      "image/png": "[encoded data removed]",
      "text/plain": [
       "<Figure size 432x288 with 1 Axes>"
      ]
     },
     "metadata": {
      "needs_background": "light"
     },
     "output_type": "display_data"
    }
   ],
   "source": [
    "supmat = super_matrix.supmat*1.0\n",
    "mask_nz = abs(supmat) > 1e-13\n",
    "plt.imshow(mask_nz)"
   ]
  },
  {
   "cell_type": "code",
   "execution_count": 28,
   "metadata": {},
   "outputs": [],
   "source": [
    "import scipy"
   ]
  },
  {
   "cell_type": "code",
   "execution_count": 36,
   "metadata": {},
   "outputs": [
    {
     "name": "stdout",
     "output_type": "stream",
     "text": [
      "Time taken =   11.12 seconds\n"
     ]
    }
   ],
   "source": [
    "t1 = time.time()\n",
    "eigvals = np.linalg.eigvalsh(supmat)\n",
    "t2 = time.time()\n",
    "print(f\"Time taken = {t2-t1:7.2f} seconds\")"
   ]
  },
  {
   "cell_type": "code",
   "execution_count": 37,
   "metadata": {},
   "outputs": [
    {
     "data": {
      "text/plain": [
       "[<matplotlib.lines.Line2D at 0x7f413ead9dd8>]"
      ]
     },
     "execution_count": 37,
     "metadata": {},
     "output_type": "execute_result"
    },
    {
     "data": {
      "image/png": "[encoded data removed]",
      "text/plain": [
       "<Figure size 432x288 with 1 Axes>"
      ]
     },
     "metadata": {
      "needs_background": "light"
     },
     "output_type": "display_data"
    }
   ],
   "source": [
    "plt.plot(eigvals)"
   ]
  },
  {
   "cell_type": "code",
   "execution_count": 39,
   "metadata": {},
   "outputs": [],
   "source": [
    "dimblocks = super_matrix.dim_blocks"
   ]
  },
  {
   "cell_type": "code",
   "execution_count": 43,
   "metadata": {},
   "outputs": [
    {
     "name": "stderr",
     "output_type": "stream",
     "text": [
      "INFO:qdclasses:--- (n1, l1) = (0, 140) and (n2, l2) = (0, 140)\n",
      "INFO:qdclasses:--- (n1, l1) = (0, 140) and (n2, l2) = (0, 141)\n",
      "INFO:qdclasses:--- (n1, l1) = (0, 140) and (n2, l2) = (0, 139)\n",
      "INFO:qdclasses:--- (n1, l1) = (0, 140) and (n2, l2) = (0, 142)\n",
      "INFO:qdclasses:--- (n1, l1) = (0, 140) and (n2, l2) = (0, 138)\n",
      "INFO:qdclasses:--- (n1, l1) = (0, 140) and (n2, l2) = (0, 143)\n",
      "INFO:qdclasses:--- (n1, l1) = (0, 140) and (n2, l2) = (0, 137)\n",
      "INFO:qdclasses:--- (n1, l1) = (0, 140) and (n2, l2) = (0, 144)\n",
      "INFO:qdclasses:--- (n1, l1) = (0, 140) and (n2, l2) = (0, 136)\n",
      "INFO:qdclasses:--- (n1, l1) = (0, 140) and (n2, l2) = (0, 145)\n",
      "INFO:qdclasses:--- (n1, l1) = (0, 140) and (n2, l2) = (0, 135)\n",
      "INFO:qdclasses:--- (n1, l1) = (0, 141) and (n2, l2) = (0, 141)\n",
      "INFO:qdclasses:--- (n1, l1) = (0, 141) and (n2, l2) = (0, 139)\n",
      "INFO:qdclasses:--- (n1, l1) = (0, 141) and (n2, l2) = (0, 142)\n",
      "INFO:qdclasses:--- (n1, l1) = (0, 141) and (n2, l2) = (0, 138)\n",
      "INFO:qdclasses:--- (n1, l1) = (0, 141) and (n2, l2) = (0, 143)\n",
      "INFO:qdclasses:--- (n1, l1) = (0, 141) and (n2, l2) = (0, 137)\n",
      "INFO:qdclasses:--- (n1, l1) = (0, 141) and (n2, l2) = (0, 144)\n",
      "INFO:qdclasses:--- (n1, l1) = (0, 141) and (n2, l2) = (0, 136)\n",
      "INFO:qdclasses:--- (n1, l1) = (0, 141) and (n2, l2) = (0, 145)\n",
      "INFO:qdclasses:--- (n1, l1) = (0, 141) and (n2, l2) = (0, 135)\n",
      "INFO:qdclasses:--- (n1, l1) = (0, 139) and (n2, l2) = (0, 139)\n",
      "INFO:qdclasses:--- (n1, l1) = (0, 139) and (n2, l2) = (0, 142)\n",
      "INFO:qdclasses:--- (n1, l1) = (0, 139) and (n2, l2) = (0, 138)\n",
      "INFO:qdclasses:--- (n1, l1) = (0, 139) and (n2, l2) = (0, 143)\n",
      "INFO:qdclasses:--- (n1, l1) = (0, 139) and (n2, l2) = (0, 137)\n",
      "INFO:qdclasses:--- (n1, l1) = (0, 139) and (n2, l2) = (0, 144)\n",
      "INFO:qdclasses:--- (n1, l1) = (0, 139) and (n2, l2) = (0, 136)\n",
      "INFO:qdclasses:--- (n1, l1) = (0, 139) and (n2, l2) = (0, 145)\n",
      "INFO:qdclasses:--- (n1, l1) = (0, 139) and (n2, l2) = (0, 135)\n",
      "INFO:qdclasses:--- (n1, l1) = (0, 142) and (n2, l2) = (0, 142)\n",
      "INFO:qdclasses:--- (n1, l1) = (0, 142) and (n2, l2) = (0, 138)\n",
      "INFO:qdclasses:--- (n1, l1) = (0, 142) and (n2, l2) = (0, 143)\n",
      "INFO:qdclasses:--- (n1, l1) = (0, 142) and (n2, l2) = (0, 137)\n",
      "INFO:qdclasses:--- (n1, l1) = (0, 142) and (n2, l2) = (0, 144)\n",
      "INFO:qdclasses:--- (n1, l1) = (0, 142) and (n2, l2) = (0, 136)\n",
      "INFO:qdclasses:--- (n1, l1) = (0, 142) and (n2, l2) = (0, 145)\n",
      "INFO:qdclasses:--- (n1, l1) = (0, 142) and (n2, l2) = (0, 135)\n",
      "INFO:qdclasses:--- (n1, l1) = (0, 138) and (n2, l2) = (0, 138)\n",
      "INFO:qdclasses:--- (n1, l1) = (0, 138) and (n2, l2) = (0, 143)\n",
      "INFO:qdclasses:--- (n1, l1) = (0, 138) and (n2, l2) = (0, 137)\n",
      "INFO:qdclasses:--- (n1, l1) = (0, 138) and (n2, l2) = (0, 144)\n",
      "INFO:qdclasses:--- (n1, l1) = (0, 138) and (n2, l2) = (0, 136)\n",
      "INFO:qdclasses:--- (n1, l1) = (0, 138) and (n2, l2) = (0, 145)\n",
      "INFO:qdclasses:--- (n1, l1) = (0, 138) and (n2, l2) = (0, 135)\n",
      "INFO:qdclasses:--- (n1, l1) = (0, 143) and (n2, l2) = (0, 143)\n",
      "INFO:qdclasses:--- (n1, l1) = (0, 143) and (n2, l2) = (0, 137)\n",
      "INFO:qdclasses:--- (n1, l1) = (0, 143) and (n2, l2) = (0, 144)\n",
      "INFO:qdclasses:--- (n1, l1) = (0, 143) and (n2, l2) = (0, 136)\n",
      "INFO:qdclasses:--- (n1, l1) = (0, 143) and (n2, l2) = (0, 145)\n",
      "INFO:qdclasses:--- (n1, l1) = (0, 143) and (n2, l2) = (0, 135)\n",
      "INFO:qdclasses:--- (n1, l1) = (0, 137) and (n2, l2) = (0, 137)\n",
      "INFO:qdclasses:--- (n1, l1) = (0, 137) and (n2, l2) = (0, 144)\n",
      "INFO:qdclasses:--- (n1, l1) = (0, 137) and (n2, l2) = (0, 136)\n",
      "INFO:qdclasses:--- (n1, l1) = (0, 137) and (n2, l2) = (0, 145)\n",
      "INFO:qdclasses:--- (n1, l1) = (0, 137) and (n2, l2) = (0, 135)\n",
      "INFO:qdclasses:--- (n1, l1) = (0, 144) and (n2, l2) = (0, 144)\n",
      "INFO:qdclasses:--- (n1, l1) = (0, 144) and (n2, l2) = (0, 136)\n",
      "INFO:qdclasses:--- (n1, l1) = (0, 144) and (n2, l2) = (0, 145)\n",
      "INFO:qdclasses:--- (n1, l1) = (0, 144) and (n2, l2) = (0, 135)\n",
      "INFO:qdclasses:--- (n1, l1) = (0, 136) and (n2, l2) = (0, 136)\n",
      "INFO:qdclasses:--- (n1, l1) = (0, 136) and (n2, l2) = (0, 145)\n",
      "INFO:qdclasses:--- (n1, l1) = (0, 136) and (n2, l2) = (0, 135)\n",
      "INFO:qdclasses:--- (n1, l1) = (0, 145) and (n2, l2) = (0, 145)\n",
      "INFO:qdclasses:--- (n1, l1) = (0, 145) and (n2, l2) = (0, 135)\n",
      "INFO:qdclasses:--- (n1, l1) = (0, 135) and (n2, l2) = (0, 135)\n"
     ]
    }
   ],
   "source": [
    "submats = {}\n",
    "for i in range(dimblocks):\n",
    "    for ii in range(i, dimblocks):\n",
    "        sm = qdcls.subMatrix(i, ii, super_matrix)\n",
    "        arg_str = f\"{i}.{ii}\"\n",
    "        submats[arg_str] = sm.get_submat()"
   ]
  },
  {
   "cell_type": "code",
   "execution_count": 48,
   "metadata": {},
   "outputs": [
    {
     "data": {
      "text/plain": [
       "array([[ 0.        ,  0.        ,  0.15420546, ...,  0.        ,\n",
       "         0.        ,  0.        ],\n",
       "       [ 0.        ,  0.        ,  0.        , ...,  0.        ,\n",
       "         0.        ,  0.        ],\n",
       "       [ 0.        ,  0.        ,  0.        , ...,  0.        ,\n",
       "         0.        ,  0.        ],\n",
       "       ...,\n",
       "       [ 0.        ,  0.        ,  0.        , ...,  0.        ,\n",
       "         0.        ,  0.        ],\n",
       "       [ 0.        ,  0.        ,  0.        , ...,  0.        ,\n",
       "         0.        ,  0.        ],\n",
       "       [ 0.        ,  0.        ,  0.        , ..., -0.15420546,\n",
       "         0.        ,  0.        ]])"
      ]
     },
     "execution_count": 48,
     "metadata": {},
     "output_type": "execute_result"
    }
   ],
   "source": [
    "submats['0.3']"
   ]
  },
  {
   "cell_type": "code",
   "execution_count": null,
   "metadata": {},
   "outputs": [],
   "source": []
  }
 ],
 "metadata": {
  "kernelspec": {
   "display_name": "Python 3",
   "language": "python",
   "name": "python3"
  },
  "language_info": {
   "codemirror_mode": {
    "name": "ipython",
    "version": 3
   },
   "file_extension": ".py",
   "mimetype": "text/x-python",
   "name": "python",
   "nbconvert_exporter": "python",
   "pygments_lexer": "ipython3",
   "version": "3.7.3"
  }
 },
 "nbformat": 4,
 "nbformat_minor": 4
}
