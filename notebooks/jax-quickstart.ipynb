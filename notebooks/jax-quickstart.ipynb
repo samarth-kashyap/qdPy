{
 "cells": [
  {
   "cell_type": "code",
   "execution_count": 6,
   "metadata": {},
   "outputs": [],
   "source": [
    "import jax.numpy as jnp\n",
    "from jax import grad, jit, vmap\n",
    "from jax import random\n",
    "from jax import device_put\n",
    "import numpy as np"
   ]
  },
  {
   "cell_type": "markdown",
   "metadata": {},
   "source": [
    "#### Checking if GPU is detected"
   ]
  },
  {
   "cell_type": "code",
   "execution_count": 7,
   "metadata": {},
   "outputs": [
    {
     "name": "stdout",
     "output_type": "stream",
     "text": [
      "gpu\n"
     ]
    }
   ],
   "source": [
    "from jax.lib import xla_bridge\n",
    "print(xla_bridge.get_backend().platform)"
   ]
  },
  {
   "cell_type": "code",
   "execution_count": 8,
   "metadata": {},
   "outputs": [],
   "source": [
    "def selu_jnp(x, alpha=1.67, lmbda=1.05):\n",
    "  return lmbda * jnp.where(x > 0, x, alpha * jnp.exp(x) - alpha)\n",
    "\n",
    "def selu_np(x, alpha=1.67, lmbda=1.05):\n",
    "  return lmbda * np.where(x > 0, x, alpha * np.exp(x) - alpha)\n",
    "\n",
    "def sum_logistic_jnp(x):\n",
    "  return jnp.sum(1.0 / (1.0 + jnp.exp(-x)))\n",
    "\n",
    "def sum_logistic_np(x):\n",
    "  return np.sum(1.0 / (1.0 + np.exp(-x)))\n",
    "\n",
    "def first_finite_differences_np(f, x):\n",
    "  eps = 1e-3\n",
    "  return np.array([(f(x + eps * v) - f(x - eps * v)) / (2 * eps)\n",
    "                   for v in np.eye(len(x))])\n",
    "\n",
    "def first_finite_differences_jnp(f, x):\n",
    "  eps = 1e-3\n",
    "  return jnp.array([(f(x + eps * v) - f(x - eps * v)) / (2 * eps)\n",
    "                   for v in jnp.eye(len(x))])"
   ]
  },
  {
   "cell_type": "code",
   "execution_count": 9,
   "metadata": {},
   "outputs": [],
   "source": [
    "key = random.PRNGKey(0)\n",
    "_x = random.normal(key, (10,))"
   ]
  },
  {
   "cell_type": "code",
   "execution_count": 10,
   "metadata": {},
   "outputs": [],
   "source": [
    "size = 3000\n",
    "x_jnp = random.normal(key, (size, size), dtype=jnp.float32)\n",
    "x = np.random.normal(size=(size, size)).astype(np.float32)\n",
    "x_device = device_put(x)"
   ]
  },
  {
   "cell_type": "code",
   "execution_count": 11,
   "metadata": {},
   "outputs": [
    {
     "name": "stdout",
     "output_type": "stream",
     "text": [
      "78.1 ms ± 153 µs per loop (mean ± std. dev. of 7 runs, 10 loops each)\n",
      "32.4 ms ± 393 µs per loop (mean ± std. dev. of 7 runs, 1 loop each)\n",
      "6.07 ms ± 43.3 µs per loop (mean ± std. dev. of 7 runs, 100 loops each)\n",
      "6.04 ms ± 13.6 µs per loop (mean ± std. dev. of 7 runs, 100 loops each)\n",
      "-------------------------------------------\n",
      "[ np array,  np.dot] T = 7.812e-02 s\n",
      "[ np array, jnp.dot] T = 3.239e-02 s\n",
      "[jnp array, jnp.dot] T = 6.072e-03 s\n",
      "[dev array, jnp.dot] T = 6.036e-03 s\n"
     ]
    }
   ],
   "source": [
    "# runs on the CPU\n",
    "time_np = %timeit -o np.dot(x, x.T);\n",
    "\n",
    "# runs on the GPU\n",
    "time_jnp = %timeit -o jnp.dot(x, x.T).block_until_ready();\n",
    "time_jnp2 = %timeit -o jnp.dot(x_jnp, x_jnp.T).block_until_ready();\n",
    "time_jnp3 = %timeit -o jnp.dot(x_device, x_device.T).block_until_ready();\n",
    "\n",
    "# printing compute times\n",
    "print(f'-------------------------------------------')\n",
    "print(f'[ np array,  np.dot] T = {time_np.average:.3e} s')\n",
    "print(f'[ np array, jnp.dot] T = {time_jnp.average:.3e} s')\n",
    "print(f'[jnp array, jnp.dot] T = {time_jnp2.average:.3e} s')\n",
    "print(f'[dev array, jnp.dot] T = {time_jnp3.average:.3e} s')"
   ]
  },
  {
   "cell_type": "markdown",
   "metadata": {},
   "source": [
    "## Testing for fixed array sizes. Functions+jit version"
   ]
  },
  {
   "cell_type": "code",
   "execution_count": 12,
   "metadata": {},
   "outputs": [
    {
     "name": "stdout",
     "output_type": "stream",
     "text": [
      "Running on CPU\n",
      "78.5 ms ± 45.1 µs per loop (mean ± std. dev. of 7 runs, 10 loops each)\n",
      "78.5 ms ± 62.5 µs per loop (mean ± std. dev. of 7 runs, 10 loops each)\n",
      "Running on GPU\n",
      "25.7 ms ± 9.15 ms per loop (mean ± std. dev. of 7 runs, 1 loop each)\n",
      "1.66 ms ± 57.8 µs per loop (mean ± std. dev. of 7 runs, 1000 loops each)\n",
      "199 µs ± 196 ns per loop (mean ± std. dev. of 7 runs, 1000 loops each)\n",
      "200 µs ± 666 ns per loop (mean ± std. dev. of 7 runs, 10000 loops each)\n",
      "-------------------------------------------\n",
      "[ np array, selu_np      ] T = 7.852e-02 s; speedup = 1.0X\n",
      "[ np array, selu_np_jit  ] T = 7.854e-02 s; speedup = 1.0X\n",
      "[ np array, selu_jnp     ] T = 2.570e-02 s; speedup = 3.1X\n",
      "[jnp array, selu_jnp_jit ] T = 1.656e-03 s; speedup = 47.4X\n",
      "[dev array, selu_jnp_jit ] T = 1.989e-04 s; speedup = 394.7X\n",
      "[jnp array, selu_jnp_jit ] T = 1.995e-04 s; speedup = 393.5X\n"
     ]
    }
   ],
   "source": [
    "# defining the jit functions\n",
    "selu_np_jit = jit(selu_np)\n",
    "selu_jnp_jit = jit(selu_jnp)\n",
    "\n",
    "# runs on the CPU\n",
    "print(f\"Running on CPU\")\n",
    "time_np = %timeit -o selu_np(x);\n",
    "time_np_jit = %timeit -o selu_np(x);\n",
    "\n",
    "print(f\"Running on GPU\")\n",
    "# runs on the GPU\n",
    "time_jnp = %timeit -o selu_jnp(x).block_until_ready();\n",
    "time_jnp2 = %timeit -o selu_jnp(x_jnp).block_until_ready();\n",
    "time_jnp_jit = %timeit -o selu_jnp_jit(x_device).block_until_ready();\n",
    "time_jnp_jit2 = %timeit -o selu_jnp_jit(x_jnp).block_until_ready();\n",
    "\n",
    "# printing compute times\n",
    "print(f'-------------------------------------------')\n",
    "print(f'[ np array, selu_np      ] T = {time_np.average:.3e} s; speedup = {time_np.average/time_np.average:.1f}X')\n",
    "print(f'[ np array, selu_np_jit  ] T = {time_np_jit.average:.3e} s; speedup = {time_np.average/time_np_jit.average:.1f}X')\n",
    "print(f'[ np array, selu_jnp     ] T = {time_jnp.average:.3e} s; speedup = {time_np.average/time_jnp.average:.1f}X')\n",
    "print(f'[jnp array, selu_jnp_jit ] T = {time_jnp2.average:.3e} s; speedup = {time_np.average/time_jnp2.average:.1f}X')\n",
    "print(f'[dev array, selu_jnp_jit ] T = {time_jnp_jit.average:.3e} s; speedup = {time_np.average/time_jnp_jit.average:.1f}X')\n",
    "print(f'[jnp array, selu_jnp_jit ] T = {time_jnp_jit2.average:.3e} s; speedup = {time_np.average/time_jnp_jit2.average:.1f}X')"
   ]
  },
  {
   "cell_type": "markdown",
   "metadata": {},
   "source": [
    "### Testing with variable array sizes. Functions+jit versions\n",
    "jax+jit version is almost 1/10 the speed of np!!"
   ]
  },
  {
   "cell_type": "code",
   "execution_count": 16,
   "metadata": {},
   "outputs": [
    {
     "name": "stdout",
     "output_type": "stream",
     "text": [
      "Running on CPU\n",
      "78.6 ms ± 27.7 µs per loop (mean ± std. dev. of 7 runs, 10 loops each)\n",
      "78.7 ms ± 49.7 µs per loop (mean ± std. dev. of 7 runs, 10 loops each)\n",
      "Running on GPU\n",
      "765 ms ± 173 ms per loop (mean ± std. dev. of 7 runs, 1 loop each)\n",
      "439 ms ± 103 ms per loop (mean ± std. dev. of 7 runs, 10 loops each)\n",
      "The slowest run took 362.29 times longer than the fastest. This could mean that an intermediate result is being cached.\n",
      "316 ms ± 182 ms per loop (mean ± std. dev. of 7 runs, 1 loop each)\n",
      "-------------------------------------------\n",
      "[ np array, selu_np      ] T = 7.864e-02 s; speedup = 1.0X\n",
      "[ np array, selu_np_jit  ] T = 7.867e-02 s; speedup = 1.0X\n",
      "[ np array, selu_jnp     ] T = 7.655e-01 s; speedup = 0.1X\n",
      "[jnp array, selu_jnp_jit ] T = 4.390e-01 s; speedup = 0.2X\n",
      "[jnp array, selu_jnp_jit ] T = 3.158e-01 s; speedup = 0.2X\n"
     ]
    }
   ],
   "source": [
    "size = 3000\n",
    "x_jnp = random.normal(key, (size, size), dtype=jnp.float32)\n",
    "x = np.random.normal(size=(size, size)).astype(np.float32)\n",
    "x_device = device_put(x)\n",
    "\n",
    "# defining the jit functions\n",
    "selu_np_jit = jit(selu_np)\n",
    "selu_jnp_jit = jit(selu_jnp)\n",
    "\n",
    "# runs on the CPU\n",
    "print(f\"Running on CPU\")\n",
    "time_np = %timeit -o selu_np(x);\n",
    "time_np_jit = %timeit -o selu_np(x);\n",
    "\n",
    "print(f\"Running on GPU\")\n",
    "# runs on the GPU\n",
    "time_jnp = %timeit -o selu_jnp(np.random.randn(np.random.randint(2989, 3001), np.random.randint(2989, 3001))).block_until_ready();\n",
    "time_jnp2 = %timeit -o selu_jnp(random.normal(key, (np.random.randint(2989, 3001), np.random.randint(2989, 3001)), dtype=jnp.float32)).block_until_ready();\n",
    "time_jnp_jit2 = %timeit -o selu_jnp_jit(random.normal(key, (np.random.randint(2989, 3001), np.random.randint(2989, 3001)), dtype=jnp.float32)).block_until_ready();\n",
    "\n",
    "# printing compute times\n",
    "print(f'-------------------------------------------')\n",
    "print(f'[ np array, selu_np      ] T = {time_np.average:.3e} s; speedup = {time_np.average/time_np.average:.1f}X')\n",
    "print(f'[ np array, selu_np_jit  ] T = {time_np_jit.average:.3e} s; speedup = {time_np.average/time_np_jit.average:.1f}X')\n",
    "print(f'[ np array, selu_jnp     ] T = {time_jnp.average:.3e} s; speedup = {time_np.average/time_jnp.average:.1f}X')\n",
    "print(f'[jnp array, selu_jnp_jit ] T = {time_jnp2.average:.3e} s; speedup = {time_np.average/time_jnp2.average:.1f}X')\n",
    "print(f'[jnp array, selu_jnp_jit ] T = {time_jnp_jit2.average:.3e} s; speedup = {time_np.average/time_jnp_jit2.average:.1f}X')"
   ]
  },
  {
   "cell_type": "code",
   "execution_count": 80,
   "metadata": {},
   "outputs": [],
   "source": [
    "x_np = np.arange(500.)\n",
    "x_jnp = jnp.arange(500.)\n",
    "dfn_jnp = grad(sum_logistic_jnp)\n",
    "# no autograd for numpy function\n",
    "# -dfn_np = grad(sum_logistic_np)-\n",
    "\n",
    "dfn_jnp_jit = jit(grad(jit(sum_logistic_jnp)))\n",
    "\n",
    "print('Comparing autograd and explicit numerical differentiation')\n",
    "print(first_finite_differences_jnp(sum_logistic_jnp, x_jnp))\n",
    "print(first_finite_differences_np(sum_logistic_np, x_np))\n",
    "print(dfn_jnp(x_jnp))"
   ]
  },
  {
   "cell_type": "markdown",
   "metadata": {},
   "source": [
    "#### Speedup isn't significant for small arrays and large number of calls"
   ]
  },
  {
   "cell_type": "code",
   "execution_count": 82,
   "metadata": {},
   "outputs": [
    {
     "name": "stdout",
     "output_type": "stream",
     "text": [
      "Running on CPU\n",
      "108 µs ± 244 ns per loop (mean ± std. dev. of 7 runs, 10000 loops each)\n",
      "Running on GPU\n",
      "20 ms ± 25.4 µs per loop (mean ± std. dev. of 7 runs, 10 loops each)\n",
      "4.73 ms ± 4.41 µs per loop (mean ± std. dev. of 7 runs, 100 loops each)\n",
      "61.4 µs ± 600 ns per loop (mean ± std. dev. of 7 runs, 10000 loops each)\n",
      "-------------------------------------------\n",
      "[ np array,  np func     ] T = 1.081e-04 s; speedup = 1.0X\n",
      "[jnp array, jnp func     ] T = 1.998e-02 s; speedup = 0.0X\n",
      "[jnp array, jnp grad     ] T = 4.729e-03 s; speedup = 0.0X\n",
      "[jnp array, jnp grad jit ] T = 6.136e-05 s; speedup = 1.8X\n"
     ]
    }
   ],
   "source": [
    "x_np = np.arange(5.)\n",
    "x_jnp = jnp.arange(5.)\n",
    "\n",
    "print(f\"Running on CPU\")\n",
    "time_np = %timeit -o first_finite_differences_np(sum_logistic_np, x_np);\n",
    "\n",
    "print(f\"Running on GPU\")\n",
    "time_jnp = %timeit -o first_finite_differences_jnp(sum_logistic_jnp, x_jnp);\n",
    "time_grad = %timeit -o dfn_jnp(x_jnp);\n",
    "time_grad_jit = %timeit -o dfn_jnp_jit(x_jnp);\n",
    "\n",
    "# printing compute times\n",
    "print(f'-------------------------------------------')\n",
    "print(f'[ np array,  np func     ] T = {time_np.average:.3e} s; speedup = {time_np.average/time_np.average:.1f}X')\n",
    "print(f'[jnp array, jnp func     ] T = {time_jnp.average:.3e} s; speedup = {time_np.average/time_jnp.average:.1f}X')\n",
    "print(f'[jnp array, jnp grad     ] T = {time_grad.average:.3e} s; speedup = {time_np.average/time_grad.average:.1f}X')\n",
    "print(f'[jnp array, jnp grad jit ] T = {time_grad_jit.average:.3e} s; speedup = {time_np.average/time_grad_jit.average:.1f}X')"
   ]
  },
  {
   "cell_type": "code",
   "execution_count": 84,
   "metadata": {},
   "outputs": [
    {
     "name": "stdout",
     "output_type": "stream",
     "text": [
      "Running on CPU\n",
      "21.9 ms ± 46.7 µs per loop (mean ± std. dev. of 7 runs, 10 loops each)\n",
      "Running on GPU\n",
      "1.91 s ± 12 ms per loop (mean ± std. dev. of 7 runs, 1 loop each)\n",
      "4.76 ms ± 14.9 µs per loop (mean ± std. dev. of 7 runs, 100 loops each)\n",
      "66.9 µs ± 875 ns per loop (mean ± std. dev. of 7 runs, 10000 loops each)\n",
      "-------------------------------------------\n",
      "[ np array,  np func     ] T = 2.190e-02 s; speedup = 1.0X\n",
      "[jnp array, jnp func     ] T = 1.910e+00 s; speedup = 0.0X\n",
      "[jnp array, jnp grad     ] T = 4.759e-03 s; speedup = 4.6X\n",
      "[jnp array, jnp grad jit ] T = 6.686e-05 s; speedup = 327.5X\n"
     ]
    }
   ],
   "source": [
    "x_np = np.arange(500.)\n",
    "x_jnp = jnp.arange(500.)\n",
    "\n",
    "print(f\"Running on CPU\")\n",
    "time_np = %timeit -o first_finite_differences_np(sum_logistic_np, x_np);\n",
    "\n",
    "print(f\"Running on GPU\")\n",
    "time_jnp = %timeit -o first_finite_differences_jnp(sum_logistic_jnp, x_jnp).block_until_ready();\n",
    "time_grad = %timeit -o dfn_jnp(x_jnp).block_until_ready();\n",
    "time_grad_jit = %timeit -o dfn_jnp_jit(x_jnp).block_until_ready();\n",
    "\n",
    "# printing compute times\n",
    "print(f'-------------------------------------------')\n",
    "print(f'[ np array,  np func     ] T = {time_np.average:.3e} s; speedup = {time_np.average/time_np.average:.1f}X')\n",
    "print(f'[jnp array, jnp func     ] T = {time_jnp.average:.3e} s; speedup = {time_np.average/time_jnp.average:.1f}X')\n",
    "print(f'[jnp array, jnp grad     ] T = {time_grad.average:.3e} s; speedup = {time_np.average/time_grad.average:.1f}X')\n",
    "print(f'[jnp array, jnp grad jit ] T = {time_grad_jit.average:.3e} s; speedup = {time_np.average/time_grad_jit.average:.1f}X')"
   ]
  }
 ],
 "metadata": {
  "kernelspec": {
   "display_name": "jax-gpu",
   "language": "python",
   "name": "jax-gpu"
  },
  "language_info": {
   "codemirror_mode": {
    "name": "ipython",
    "version": 3
   },
   "file_extension": ".py",
   "mimetype": "text/x-python",
   "name": "python",
   "nbconvert_exporter": "python",
   "pygments_lexer": "ipython3",
   "version": "3.8.10"
  }
 },
 "nbformat": 4,
 "nbformat_minor": 4
}
